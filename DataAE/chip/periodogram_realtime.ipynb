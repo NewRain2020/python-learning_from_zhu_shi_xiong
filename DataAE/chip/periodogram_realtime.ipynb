{
 "cells": [
  {
   "cell_type": "code",
   "execution_count": 15,
   "metadata": {},
   "outputs": [],
   "source": [
    "import pandas as pd\n",
    "import numpy as np\n",
    "import matplotlib.pyplot as plt\n",
    "from scipy.signal import welch\n",
    "import pyvisa as visa\n",
    "from rigol_osc import osc_ask_data\n",
    "import tkinter as tk\n",
    "from tkinter import filedialog\n",
    "import csv\n",
    "import time"
   ]
  },
  {
   "cell_type": "code",
   "execution_count": 16,
   "metadata": {},
   "outputs": [
    {
     "name": "stdout",
     "output_type": "stream",
     "text": [
      "RIGOL TECHNOLOGIES,MSO5354,MS5A245109692,00.01.03.03.00\n",
      "\n",
      "Sampling rate: 1000.0 kHz\n"
     ]
    }
   ],
   "source": [
    "# Dedault oscilloscope\n",
    "sampling_time = 1 #s\n",
    "memory_depth = \"1M\"\n",
    "oscilloscope_address = 'TCPIP0::192.168.1.9::inst0::INSTR'\n",
    "rm = visa.ResourceManager()\n",
    "oscilloscope = rm.open_resource(oscilloscope_address)\n",
    "print(oscilloscope.query('*IDN?'))\n",
    "oscilloscope.chunk_size = 1024 * 1024\n",
    "time.sleep(1)\n",
    "oscilloscope.write(f':ACQ:MDEP {memory_depth}')\n",
    "oscilloscope.write(f':TIMebase:MAIN:OFFSet {sampling_time/2}')\n",
    "oscilloscope.write(f':TIMebase:MAIN:SCALe {sampling_time/10}')\n",
    "oscilloscope.write(':SINGle')\n",
    "# oscilloscope.close()\n",
    "sampling_rate = int(float(oscilloscope.query(':ACQuire:SRATe?')))\n",
    "print(f'Sampling rate: {sampling_rate/1000} kHz')"
   ]
  },
  {
   "cell_type": "code",
   "execution_count": 17,
   "metadata": {},
   "outputs": [
    {
     "data": {
      "text/plain": [
       "9"
      ]
     },
     "execution_count": 17,
     "metadata": {},
     "output_type": "execute_result"
    }
   ],
   "source": [
    "oscilloscope.write(':TFORce')"
   ]
  },
  {
   "cell_type": "code",
   "execution_count": 18,
   "metadata": {},
   "outputs": [
    {
     "name": "stdout",
     "output_type": "stream",
     "text": [
      "('TCPIP0::192.168.1.18::inst0::INSTR', 'TCPIP0::192.168.1.20::inst0::INSTR', 'TCPIP0::192.168.1.21::inst0::INSTR', 'TCPIP0::192.168.1.22::inst0::INSTR', 'TCPIP0::192.168.1.46::inst0::INSTR', 'TCPIP0::192.168.1.9::inst0::INSTR', 'TCPIP0::192.168.1.8::PSG::INSTR', 'GPIB0::18::INSTR')\n",
      "RIGOL TECHNOLOGIES,MSO5354,MS5A245109692,00.01.03.03.00\n",
      "\n",
      "Getting data from Channel 4...\n",
      "OSC operation Done\n",
      "\n"
     ]
    }
   ],
   "source": [
    "# Get rawdata1\n",
    "if oscilloscope.query(':TRIGger:STATus?') == 'STOP\\n':\n",
    "    rawdata1 = osc_ask_data([4], memory_depth, time_colume=False) #Squ"
   ]
  },
  {
   "cell_type": "code",
   "execution_count": 6,
   "metadata": {},
   "outputs": [
    {
     "name": "stdout",
     "output_type": "stream",
     "text": [
      "('TCPIP0::192.168.1.18::inst0::INSTR', 'TCPIP0::192.168.1.20::inst0::INSTR', 'TCPIP0::192.168.1.21::inst0::INSTR', 'TCPIP0::192.168.1.22::inst0::INSTR', 'TCPIP0::192.168.1.46::inst0::INSTR', 'TCPIP0::192.168.1.9::inst0::INSTR', 'TCPIP0::192.168.1.8::PSG::INSTR', 'GPIB0::18::INSTR')\n",
      "RIGOL TECHNOLOGIES,MSO5354,MS5A245109692,00.01.03.03.00\n",
      "\n",
      "Getting data from Channel 3...\n",
      "OSC operation Done\n",
      "\n"
     ]
    }
   ],
   "source": [
    "# Get rawdata2\n",
    "if oscilloscope.query(':TRIGger:STATus?') == 'STOP\\n':\n",
    "    rawdata2 = osc_ask_data([3], memory_depth, time_colume=False) #Antisqu"
   ]
  },
  {
   "cell_type": "code",
   "execution_count": 11,
   "metadata": {},
   "outputs": [
    {
     "name": "stdout",
     "output_type": "stream",
     "text": [
      "('TCPIP0::192.168.1.18::inst0::INSTR', 'TCPIP0::192.168.1.20::inst0::INSTR', 'TCPIP0::192.168.1.21::inst0::INSTR', 'TCPIP0::192.168.1.22::inst0::INSTR', 'TCPIP0::192.168.1.46::inst0::INSTR', 'TCPIP0::192.168.1.9::inst0::INSTR', 'TCPIP0::192.168.1.8::PSG::INSTR', 'GPIB0::18::INSTR')\n",
      "RIGOL TECHNOLOGIES,MSO5354,MS5A245109692,00.01.03.03.00\n",
      "\n",
      "Getting data from Channel 3...\n",
      "OSC operation Done\n",
      "\n"
     ]
    }
   ],
   "source": [
    "# Get rawdata3\n",
    "if oscilloscope.query(':TRIGger:STATus?') == 'STOP\\n':\n",
    "    rawdata3 = osc_ask_data([3], memory_depth, time_colume=False) #SNL"
   ]
  },
  {
   "cell_type": "code",
   "execution_count": 19,
   "metadata": {},
   "outputs": [],
   "source": [
    "rawdata2 = rawdata1\n",
    "rawdata3 = rawdata1"
   ]
  },
  {
   "cell_type": "code",
   "execution_count": 20,
   "metadata": {},
   "outputs": [],
   "source": [
    "# Read data\n",
    "signal1 = rawdata1[0] #Squ\n",
    "signal2 = rawdata2[0] #Antisqu\n",
    "signal3 = rawdata3[0] #SNL"
   ]
  },
  {
   "cell_type": "code",
   "execution_count": 7,
   "metadata": {},
   "outputs": [],
   "source": [
    "# Parameters\n",
    "split_num = 1 # also is average number\n",
    "window_seg_number = 2000 # number of segments in each window\n",
    "# sampling_rate = 1000000 # Sa/s\n",
    "zohms = 50\n",
    "\n",
    "split_size = len(signal1) // split_num\n",
    "signal1_split = np.array_split(signal1[:split_size*split_num], split_num)\n",
    "signal2_split = np.array_split(signal2[:split_size*split_num], split_num)\n",
    "signal3_split = np.array_split(signal3[:split_size*split_num], split_num)\n",
    "\n",
    "# Welch's method for signal1\n",
    "Pxx_avg_seg1 = []\n",
    "for i in range(split_num):\n",
    "    f1, Pxx_avg_seg1_ = welch(signal1_split[i], fs=sampling_rate, window='boxcar', nperseg=len(signal1_split[i])//window_seg_number, noverlap=None, scaling='spectrum')\n",
    "    \"\"\"\n",
    "    window can be one of the following:\n",
    "        - boxcar\n",
    "        - triang\n",
    "        - blackman\n",
    "        - hamming\n",
    "        - hann\n",
    "        - bartlett\n",
    "        - flattop\n",
    "        - parzen\n",
    "        - bohman\n",
    "        - blackmanharris\n",
    "        - nuttall\n",
    "        - barthann\n",
    "        - cosine\n",
    "        - exponential\n",
    "        - tukey\n",
    "        - taylor\n",
    "        - lanczos\n",
    "    When window is boxcar, window_seg_number is 1, and noverlap is None, the result is equivalent to `scipy.signal.periodogram`.\n",
    "    \"\"\"\n",
    "    Pxx_avg_seg1.append(Pxx_avg_seg1_)\n",
    "Pxx_avg1 = np.mean(Pxx_avg_seg1, axis=0)\n",
    "Pxx_avg1 = 10 * np.log10(Pxx_avg1 / zohms) + 30\n",
    "\n",
    "# Welch's method for signal2\n",
    "Pxx_avg_seg2 = []\n",
    "for i in range(split_num):\n",
    "    f2, Pxx_avg_seg2_ = welch(signal2_split[i], fs=sampling_rate, window='boxcar', nperseg=len(signal2_split[i])//window_seg_number, noverlap=None, scaling='spectrum')\n",
    "    Pxx_avg_seg2.append(Pxx_avg_seg2_)\n",
    "Pxx_avg2 = np.mean(Pxx_avg_seg2, axis=0)\n",
    "Pxx_avg2 = 10 * np.log10(Pxx_avg2 / zohms) + 30\n",
    "\n",
    "# Welch's method for signal3\n",
    "Pxx_avg_seg3 = []\n",
    "for i in range(split_num):\n",
    "    f3, Pxx_avg_seg3_ = welch(signal3_split[i], fs=sampling_rate, window='boxcar', nperseg=len(signal3_split[i])//window_seg_number, noverlap=None, scaling='spectrum')\n",
    "    Pxx_avg_seg3.append(Pxx_avg_seg3_)\n",
    "Pxx_avg3 = np.mean(Pxx_avg_seg3, axis=0)\n",
    "Pxx_avg3 = 10 * np.log10(Pxx_avg3 / zohms) + 30\n"
   ]
  },
  {
   "cell_type": "code",
   "execution_count": 17,
   "metadata": {},
   "outputs": [
    {
     "name": "stdout",
     "output_type": "stream",
     "text": [
      "Sampling rate: 1000.0 kHz\n"
     ]
    },
    {
     "data": {
      "image/png": "[encoded data removed]",
      "text/plain": [
       "<Figure size 1000x600 with 1 Axes>"
      ]
     },
     "metadata": {},
     "output_type": "display_data"
    }
   ],
   "source": [
    "# Plot\n",
    "print(f'Sampling rate: {sampling_rate/1000} kHz')\n",
    "yrange = 50\n",
    "yref = -100\n",
    "plt.figure(figsize=(10, 6))\n",
    "plt.plot(f1, Pxx_avg1, label='data1')\n",
    "plt.plot(f2, Pxx_avg2, label='data2')\n",
    "plt.plot(f3, Pxx_avg3, label='data3')\n",
    "plt.title('Power Spectral Estimation')\n",
    "plt.xlabel('Frequency (Hz)')\n",
    "plt.ylabel('Power (dBm)')\n",
    "plt.xlim(0,10000)\n",
    "plt.ylim(yref-yrange/2, yref+yrange/2)\n",
    "plt.legend()\n",
    "plt.grid(True)\n",
    "plt.show()\n"
   ]
  },
  {
   "cell_type": "code",
   "execution_count": 21,
   "metadata": {},
   "outputs": [
    {
     "name": "stdout",
     "output_type": "stream",
     "text": [
      "final_data generated. Choose a folder to save the data.\n",
      "Writing CSV...\n",
      "CSV writing Done\n"
     ]
    }
   ],
   "source": [
    "# Save data\n",
    "file_name = 'test'\n",
    "preamble = oscilloscope.query(':WAV:PRE?').split(',')\n",
    "num_samples = int(preamble[2])\n",
    "time_per_sample = float(preamble[4])\n",
    "x_origin = float(preamble[5])\n",
    "time_array = np.array([x_origin + i * time_per_sample for i in range(num_samples)])\n",
    "final_data = [time_array]\n",
    "final_data.append(signal1)\n",
    "final_data.append(signal2)\n",
    "final_data.append(signal3)\n",
    "print('final_data generated. Choose a folder to save the data.')\n",
    "if file_name:\n",
    "    # choose a folder to save the data\n",
    "    root = tk.Tk()\n",
    "    root.withdraw()  # hide the root window\n",
    "    folder_path = filedialog.askdirectory()\n",
    "    # Save waveform data to a CSV file\n",
    "    print('Writing CSV...')\n",
    "    BUFFER_SIZE = 1000000  # Adjust the buffer size as needed\n",
    "    with open(f'{folder_path}/{file_name}_.csv', 'w', newline='') as csvfile:\n",
    "        writer = csv.writer(csvfile)\n",
    "        writer.writerow(['Time'] + ['signal1'] + ['signal2'] + ['signal3'])  # Write header\n",
    "        for row in zip(*final_data):  # Transpose and write\n",
    "            writer.writerow(row)\n",
    "    print('CSV writing Done')"
   ]
  }
 ],
 "metadata": {
  "kernelspec": {
   "display_name": ".venv",
   "language": "python",
   "name": "python3"
  },
  "language_info": {
   "codemirror_mode": {
    "name": "ipython",
    "version": 3
   },
   "file_extension": ".py",
   "mimetype": "text/x-python",
   "name": "python",
   "nbconvert_exporter": "python",
   "pygments_lexer": "ipython3",
   "version": "3.11.0"
  }
 },
 "nbformat": 4,
 "nbformat_minor": 2
}
