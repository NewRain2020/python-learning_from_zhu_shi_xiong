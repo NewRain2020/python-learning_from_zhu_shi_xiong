{
 "cells": [
  {
   "cell_type": "code",
   "execution_count": 1,
   "metadata": {},
   "outputs": [
    {
     "name": "stdout",
     "output_type": "stream",
     "text": [
      "Total 20000 rising edge trigger points\n"
     ]
    }
   ],
   "source": [
    "import pandas as pd\n",
    "import matplotlib.pyplot as plt\n",
    "import numpy as np\n",
    "\n",
    "# Read CSV file\n",
    "header_rows = 12\n",
    "df = pd.read_csv('data/data.csv', skiprows=header_rows)\n",
    "\n",
    "# Get columns\n",
    "time_column = df.iloc[:, 0].values\n",
    "signal_column = df.iloc[:, 1].values\n",
    "bhd_ac_column = df.iloc[:, 2].values\n",
    "bhd_dc_column = df.iloc[:, 3].values\n",
    "\n",
    "# Trigger condition: rising edge\n",
    "trigger_level = 2  # Trigger level in V\n",
    "triggered = False\n",
    "trigger_points = []\n",
    "\n",
    "# Detect rising edge\n",
    "for i in range(1, len(signal_column)):\n",
    "    if signal_column[i-1] < trigger_level <= signal_column[i]:\n",
    "        triggered = True\n",
    "        trigger_points.append({'Time': time_column[i], 'Index': i})\n",
    "\n",
    "# Output trigger points information\n",
    "if triggered:\n",
    "    # print(\"Rising Edge Trigger Points:\")\n",
    "    # for point in trigger_points:\n",
    "    #     print(f\"Time: {point['Time']}, Data Number: {point['Index']}\")\n",
    "    \n",
    "    print(f\"Total {len(trigger_points)} rising edge trigger points\")\n",
    "else:\n",
    "    print(\"No rising edge trigger points detected\")\n"
   ]
  },
  {
   "cell_type": "code",
   "execution_count": 2,
   "metadata": {},
   "outputs": [
    {
     "data": {
      "image/png": "[encoded data removed]",
      "text/plain": [
       "<Figure size 640x480 with 1 Axes>"
      ]
     },
     "metadata": {},
     "output_type": "display_data"
    },
    {
     "name": "stdout",
     "output_type": "stream",
     "text": [
      "Max bin length: 2637\n",
      "Min bin length: 280\n"
     ]
    }
   ],
   "source": [
    "# Time bin analysis\n",
    "bin_length = [0] * (len(trigger_points) - 1)\n",
    "for i in range(1, len(trigger_points)):\n",
    "    bin_length[i-1] = trigger_points[i]['Index'] - trigger_points[i-1]['Index']\n",
    "\n",
    "plt.plot(bin_length)\n",
    "# plt.xlim(6520, 6530)\n",
    "# plt.ylim(280, 300)\n",
    "\n",
    "plt.title('Each Time Bin Length')\n",
    "plt.xlabel('Bin Number')\n",
    "plt.ylabel('Bin Length')\n",
    "\n",
    "plt.show()\n",
    "\n",
    "max_bin_length = max(bin_length)\n",
    "min_bin_length = min(bin_length)\n",
    "print(f\"Max bin length: {max_bin_length}\")\n",
    "print(f\"Min bin length: {min_bin_length}\")"
   ]
  },
  {
   "cell_type": "code",
   "execution_count": 8,
   "metadata": {},
   "outputs": [],
   "source": [
    "# Extract each time bin data from raw data\n",
    "reduced_bin_length = min_bin_length\n",
    "fix_percent = 0.5\n",
    "\n",
    "bin_data_raw = np.zeros((len(trigger_points), reduced_bin_length))\n",
    "bin_data_fixed = np.zeros((len(trigger_points), int(reduced_bin_length * fix_percent)))\n",
    "bin_data_time_raw = np.zeros((len(trigger_points), reduced_bin_length))\n",
    "bin_data_time_fixed = np.zeros((len(trigger_points), int(reduced_bin_length * fix_percent)))\n",
    "for i in range(len(trigger_points)):\n",
    "    start_index = trigger_points[i]['Index']\n",
    "    end_index = start_index + reduced_bin_length\n",
    "    fixed_start_index = end_index - int(reduced_bin_length * fix_percent)\n",
    "    bin_data_raw[i] = bhd_ac_column[start_index:end_index]\n",
    "    bin_data_fixed[i] = bhd_ac_column[fixed_start_index:end_index]\n",
    "    bin_data_time_raw[i] = time_column[start_index:end_index]\n",
    "    bin_data_time_fixed[i] = time_column[fixed_start_index:end_index]\n"
   ]
  },
  {
   "cell_type": "code",
   "execution_count": 18,
   "metadata": {},
   "outputs": [],
   "source": [
    "# Output bin data to csv file\n",
    "output_data = np.insert(bin_data_fixed, 0, bin_data_time_fixed[0], axis=0)\n",
    "\n",
    "import csv\n",
    "with open('data/bin_data_fixed.csv', 'w', newline='') as csvfile:\n",
    "    csvwriter = csv.writer(csvfile, delimiter=',')\n",
    "    csvwriter.writerow(['Relative_Time'] + [f'Bin_{i}' for i in range(1,bin_data_fixed.shape[0]+1)])\n",
    "    csvwriter.writerows(output_data.T)\n",
    "print(\"Output bin data to csv file successfully\")"
   ]
  }
 ],
 "metadata": {
  "kernelspec": {
   "display_name": ".venv",
   "language": "python",
   "name": "python3"
  },
  "language_info": {
   "codemirror_mode": {
    "name": "ipython",
    "version": 3
   },
   "file_extension": ".py",
   "mimetype": "text/x-python",
   "name": "python",
   "nbconvert_exporter": "python",
   "pygments_lexer": "ipython3",
   "version": "3.11.0"
  }
 },
 "nbformat": 4,
 "nbformat_minor": 2
}
