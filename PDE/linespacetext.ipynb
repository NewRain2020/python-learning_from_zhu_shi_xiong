{
 "cells": [
  {
   "cell_type": "code",
   "execution_count": 1,
   "metadata": {},
   "outputs": [],
   "source": [
    "import numpy as np"
   ]
  },
  {
   "cell_type": "code",
   "execution_count": 7,
   "metadata": {},
   "outputs": [
    {
     "ename": "NameError",
     "evalue": "name 'a' is not defined",
     "output_type": "error",
     "traceback": [
      "\u001b[1;31m---------------------------------------------------------------------------\u001b[0m",
      "\u001b[1;31mNameError\u001b[0m                                 Traceback (most recent call last)",
      "Cell \u001b[1;32mIn[7], line 9\u001b[0m\n\u001b[0;32m      7\u001b[0m     \u001b[38;5;28;01mreturn\u001b[39;00m a\n\u001b[0;32m      8\u001b[0m test()\n\u001b[1;32m----> 9\u001b[0m \u001b[38;5;28mprint\u001b[39m(\u001b[43ma\u001b[49m)\n",
      "\u001b[1;31mNameError\u001b[0m: name 'a' is not defined"
     ]
    }
   ],
   "source": [
    "def ws_dualband_setup(center_pump_wl, space_freq, bandwidth_freq, attenuation=[0,0], phase=[0,0], port=[1,1]):\n",
    "    \"\"\" This function is used to generate the .wsp file for dual-band wavesheper filter.\n",
    "\n",
    "    Args:\n",
    "        center_pump_wl: the wavelength of the pump laser in OSA, unit: nm, it will be automaticly compensated the frequency offset between OSA and WS\n",
    "        space_freq: the frequency spacing between each band and the pump laser, unit: THz\n",
    "        bandwidth_freq: the bandwidth of each band, the bandwidth of each band is the same, unit: THz\n",
    "        attenuation: the attenuation of each band, the attenuation of each band can be different, use [attn1, attn2] from, unit: dB, do not need negative sign\n",
    "        phase: the phase of each band, the phase of each band can be different, use [phase1, phase2] from, unit: degree\n",
    "        port: the port of each band, the port of each band can be different, use [port1, port2] from, unit: dB\n",
    "    \"\"\"\n",
    "\n",
    "\n",
    "    c = 299792458\n",
    "    fixed_center_pump_wl = center_pump_wl + 0.027 # Compensate the frequency offset between OSA and WS\n",
    "    center_pump_freq = c/fixed_center_pump_wl\n",
    "    center_freq_1 = center_pump_freq - space_freq\n",
    "    center_freq_2 = center_pump_freq + space_freq\n",
    "    freq1_l = center_freq_1 - bandwidth_freq/2\n",
    "    freq1_h = center_freq_1 + bandwidth_freq/2\n",
    "    freq2_l = center_freq_2 - bandwidth_freq/2\n",
    "    freq2_h = center_freq_2 + bandwidth_freq/2\n",
    "\n",
    "    wsFreq1 = np.linspace(freq1_l, freq1_h, int((freq1_h-freq1_l)/0.001 + 1))\n",
    "    wsAttn1 = np.zeros(wsFreq1.shape) + attenuation[0]\n",
    "    wsPhase1 = np.zeros(wsFreq1.shape) + phase[0]\n",
    "    wsPort1 = np.zeros(wsFreq1.shape) + port[0]\n",
    "\n",
    "    wsFreq2 = np.linspace(freq2_l, freq2_h, int((freq2_h-freq2_l)/0.001 + 1))\n",
    "    wsAttn2 = np.zeros(wsFreq2.shape) + attenuation[1]\n",
    "    wsPhase2 = np.zeros(wsFreq2.shape) + phase[1]\n",
    "    wsPort2 = np.zeros(wsFreq2.shape) + port[1]\n",
    "\n",
    "    wsFreq = np.hstack ([wsFreq1,wsFreq2])\n",
    "    wsAttn = np.hstack ([wsAttn1,wsAttn2])\n",
    "    wsPhase =np.hstack ([wsPhase1,wsPhase2])\n",
    "    wsPort = np.hstack ([wsPort1,wsPort2])\n",
    "    return wsFreq, wsAttn, wsPhase, wsPort\n",
    "\n",
    "\n",
    "\n",
    "\n"
   ]
  }
 ],
 "metadata": {
  "kernelspec": {
   "display_name": ".venv",
   "language": "python",
   "name": "python3"
  },
  "language_info": {
   "codemirror_mode": {
    "name": "ipython",
    "version": 3
   },
   "file_extension": ".py",
   "mimetype": "text/x-python",
   "name": "python",
   "nbconvert_exporter": "python",
   "pygments_lexer": "ipython3",
   "version": "3.11.0"
  }
 },
 "nbformat": 4,
 "nbformat_minor": 2
}
