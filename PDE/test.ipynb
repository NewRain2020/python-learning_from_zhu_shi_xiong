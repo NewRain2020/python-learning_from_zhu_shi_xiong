{
 "cells": [
  {
   "cell_type": "code",
   "execution_count": 1,
   "metadata": {},
   "outputs": [],
   "source": [
    "import numpy as np\n",
    "from scipy.linalg import sqrtm\n",
    "import scipy as sc\n",
    "import matplotlib.pyplot as plt\n",
    "import scipy\n",
    "import random\n",
    "import numba as numba\n",
    "from numpy import complex128\n",
    "from math import comb\n",
    "from numba.typed import Dict\n",
    "from numba import types\n",
    "from scipy.optimize import curve_fit\n",
    "from torch.optim import lr_scheduler\n",
    "import torch\n",
    "from tqdm import tqdm\n",
    "import time\n",
    "import csv\n",
    "qumodes_number=100"
   ]
  },
  {
   "cell_type": "code",
   "execution_count": 8,
   "metadata": {},
   "outputs": [
    {
     "name": "stdout",
     "output_type": "stream",
     "text": [
      "原始数据：\n",
      "[[1 2 3]\n",
      " [4 5 6]\n",
      " [7 8 9]]\n",
      "\n",
      "插入一列数据后的数据：\n",
      "[[10  1  2  3]\n",
      " [11  4  5  6]\n",
      " [12  7  8  9]]\n"
     ]
    }
   ],
   "source": [
    "import numpy as np\n",
    "\n",
    "# 原始数据\n",
    "data = np.array([[1, 2, 3],\n",
    "                 [4, 5, 6],\n",
    "                 [7, 8, 9]])\n",
    "\n",
    "# 要插入的一列数据\n",
    "new_column = np.array([10, 11, 12])\n",
    "\n",
    "# 在最前面插入一列数据\n",
    "data_with_new_column = np.insert(data, 0, new_column, axis=1)\n",
    "\n",
    "print(\"原始数据：\")\n",
    "print(data)\n",
    "print(\"\\n插入一列数据后的数据：\")\n",
    "print(data_with_new_column)\n"
   ]
  },
  {
   "cell_type": "code",
   "execution_count": 7,
   "metadata": {},
   "outputs": [
    {
     "data": {
      "text/plain": [
       "array([[ 1,  4,  9],\n",
       "       [ 4, 10, 18]])"
      ]
     },
     "execution_count": 7,
     "metadata": {},
     "output_type": "execute_result"
    }
   ],
   "source": [
    "a1 * b1"
   ]
  }
 ],
 "metadata": {
  "kernelspec": {
   "display_name": ".venv",
   "language": "python",
   "name": "python3"
  },
  "language_info": {
   "codemirror_mode": {
    "name": "ipython",
    "version": 3
   },
   "file_extension": ".py",
   "mimetype": "text/x-python",
   "name": "python",
   "nbconvert_exporter": "python",
   "pygments_lexer": "ipython3",
   "version": "3.11.0"
  }
 },
 "nbformat": 4,
 "nbformat_minor": 2
}
